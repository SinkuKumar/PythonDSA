{
 "cells": [
  {
   "cell_type": "markdown",
   "metadata": {},
   "source": [
    "## Chapter 1 Python Primer\n",
    "\n",
    "### Contents\n",
    "---\n",
    "\n",
    "#### 1.1 Python Overview\n",
    "\n",
    "---\n",
    "\n",
    "### 1.1 Python Overview\n",
    "\n",
    "- Python was released in early 1990s and has become a prominently used language in industry and education.\n",
    "- The second major version of language Python 2 was release in 2000 and the third major version, Python 3 was released in 2008.\n",
    "- The contents are based on Python 3 and I'm using 3.12\n",
    "\n",
    "#### 1.1.1 The Python Interpreter\n",
    "\n",
    "- Python is formally an interpretted language, it using python interpretter to compile and run the source code or script.\n",
    "- The source can be written a text editor and the scripts ends with `.py` extension.\n",
    "- IDLE is a built in editor for writing and executing python code.\n",
    "- You can take advantage of IDEs or Code Editors to write python code, I'm using jupyter notebook.\n",
    "\n",
    "#### 1.1.2 Preview of a Python Program\n",
    "\n",
    "- A simple program to computer the Grade Point Average (GPA) for a student based on letter grades that are entered by a user.\n",
    "- Python syntax relies on whitespaces and indentation to structure a program, use 4 spaces instead of `tab` for indenting a code block."
   ]
  },
  {
   "cell_type": "code",
   "execution_count": null,
   "metadata": {},
   "outputs": [
    {
     "name": "stdout",
     "output_type": "stream",
     "text": [
      "Welcome to the GPA calculator.\n",
      "Please enter all your letter grades, one per line.\n",
      "Enter a blank line to desiginate the end.\n"
     ]
    }
   ],
   "source": [
    "print(\"Welcome to the GPA calculator.\")\n",
    "print(\"Please enter all your letter grades, one per line.\")\n",
    "print(\"Enter a blank line to desiginate the end.\")\n",
    "\n",
    "# Map from letter grade to point value\n",
    "points = {\"A+\": 4.0, \"A\": 4.0, \"A-\": 3.67, \"B+\": 3.33, \"B\": 3.0, \"B-\": 2.67, \n",
    "          \"C+\": 2.33, \"C\": 2.0, \"C-\": 1.67, \"D+\": 1.33, \"D\": 1.0, \"F\": 0.0}\n",
    "\n",
    "num_courses = 0\n",
    "total_points = 0\n",
    "\n",
    "done = False\n",
    "\n",
    "while not done:\n",
    "    grade = input()\n",
    "    if grade == \"\":\n",
    "        done = True\n",
    "    elif grade not in points:\n",
    "        print(\"Unknown grade {0} being ignored\".format(grade))\n",
    "    else:\n",
    "        num_courses += 1\n",
    "        total_points += points[grade]\n",
    "\n",
    "if num_courses > 0:\n",
    "    print(\"Your GPA is {0:.3}\".format(total_points / num_courses))\n"
   ]
  },
  {
   "cell_type": "markdown",
   "metadata": {},
   "source": []
  }
 ],
 "metadata": {
  "kernelspec": {
   "display_name": "venv",
   "language": "python",
   "name": "python3"
  },
  "language_info": {
   "codemirror_mode": {
    "name": "ipython",
    "version": 3
   },
   "file_extension": ".py",
   "mimetype": "text/x-python",
   "name": "python",
   "nbconvert_exporter": "python",
   "pygments_lexer": "ipython3",
   "version": "3.12.9"
  }
 },
 "nbformat": 4,
 "nbformat_minor": 2
}
